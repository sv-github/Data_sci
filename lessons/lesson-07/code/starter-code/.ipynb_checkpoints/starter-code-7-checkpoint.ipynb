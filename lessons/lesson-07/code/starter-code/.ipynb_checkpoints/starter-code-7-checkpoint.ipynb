{
 "cells": [
  {
   "cell_type": "markdown",
   "metadata": {},
   "source": [
    "# Lesson 7"
   ]
  },
  {
   "cell_type": "code",
   "execution_count": 10,
   "metadata": {
    "collapsed": false
   },
   "outputs": [],
   "source": [
    "import numpy as np\n",
    "import pandas as pd\n",
    "from sklearn import linear_model, metrics\n",
    "import matplotlib.pyplot as plt\n",
    "%matplotlib inline"
   ]
  },
  {
   "cell_type": "markdown",
   "metadata": {},
   "source": [
    "We've learned he basics of linear regression, with one and multiple variables. \n",
    "\n",
    "Today we're going to focus on the question of whether one model or set of models is better than another.\n",
    "\n",
    "We're going to start by going over classical methods, and then talk about methods using cross validation."
   ]
  },
  {
   "cell_type": "markdown",
   "metadata": {},
   "source": [
    "# Introduction"
   ]
  },
  {
   "cell_type": "markdown",
   "metadata": {},
   "source": [
    "Why use classical metrics, like R^2, at all?\n",
    "\n",
    "Why not just use cross-validation accuracy, since the goal is to make predictions on out-of-sample data?\n",
    "\n",
    "To understand reason, recall bias-variance:"
   ]
  },
  {
   "cell_type": "markdown",
   "metadata": {},
   "source": [
    "<img src=http://i.stack.imgur.com/JLDET.png>"
   ]
  },
  {
   "cell_type": "markdown",
   "metadata": {},
   "source": [
    "**Discussion:** Is linear regression a \"high bias\" or \"high variance\" model?"
   ]
  },
  {
   "cell_type": "markdown",
   "metadata": {},
   "source": [
    "Recall, in the context of regression, what overfitting means:"
   ]
  },
  {
   "cell_type": "markdown",
   "metadata": {},
   "source": [
    "<img src=\"https://cloud.githubusercontent.com/assets/846010/11647961/77c2781e-9d3c-11e5-9793-363dab993e14.png\">"
   ]
  },
  {
   "cell_type": "markdown",
   "metadata": {},
   "source": [
    "## Classical metrics for understanding model fit"
   ]
  },
  {
   "cell_type": "markdown",
   "metadata": {},
   "source": [
    "### R Squared"
   ]
  },
  {
   "cell_type": "markdown",
   "metadata": {},
   "source": [
    "Formula = (explained variance) / (total variance)"
   ]
  },
  {
   "cell_type": "markdown",
   "metadata": {},
   "source": [
    "<img src=http://www.rapidinsightinc.com/wordpress/wp-content/uploads/r-squared.png>"
   ]
  },
  {
   "cell_type": "code",
   "execution_count": 2,
   "metadata": {
    "collapsed": false
   },
   "outputs": [
    {
     "data": {
      "text/plain": [
       "<matplotlib.text.Text at 0xaa9d470>"
      ]
     },
     "execution_count": 2,
     "metadata": {},
     "output_type": "execute_result"
    },
    {
     "data": {
      "image/png": "[encoded data removed]",
      "text/plain": [
       "<matplotlib.figure.Figure at 0xa9c8470>"
      ]
     },
     "metadata": {},
     "output_type": "display_data"
    }
   ],
   "source": [
    "wd = '../../data/'\n",
    "crickets = pd.read_csv(wd + 'crickets.csv')\n",
    "# pd.read_csv('../../crickets_temp.csv')\n",
    "crickets.head()\n",
    "\n",
    "plt.scatter(crickets.temp, crickets.crickets)\n",
    "plt.xlabel('Temp')\n",
    "plt.ylabel('Crickets')"
   ]
  },
  {
   "cell_type": "code",
   "execution_count": 11,
   "metadata": {
    "collapsed": false
   },
   "outputs": [
    {
     "data": {
      "text/plain": [
       "0.69746514501673995"
      ]
     },
     "execution_count": 11,
     "metadata": {},
     "output_type": "execute_result"
    }
   ],
   "source": [
    "# ## biased fit                                          # ignoring code here\n",
    "# lm = linear_model.LinearRegression()\n",
    "# lm.fit(crickets[['crickets']], crickets['temp'])\n",
    "# lm.score(crickets[['crickets']], crickets['temp'])"
   ]
  },
  {
   "cell_type": "markdown",
   "metadata": {},
   "source": [
    "### Manual R-Squared Calc"
   ]
  },
  {
   "cell_type": "code",
   "execution_count": 9,
   "metadata": {
    "collapsed": false
   },
   "outputs": [
    {
     "name": "stdout",
     "output_type": "stream",
     "text": [
      "R-squared: 0.697465145017 1 - unexplained variance / total var\n",
      "R-squared: 0.697465145017\n"
     ]
    }
   ],
   "source": [
    "mean_temp = crickets['temp'].mean()         # calc mean\n",
    "y_diff = crickets['temp'] - mean_temp       # diff from mean\n",
    "y_diff_squared = y_diff**2                  # squared\n",
    "total_var = sum(y_diff_squared)             # summed\n",
    "\n",
    "lm = linear_model.LinearRegression()                 # linear_model imported from scikit learn\n",
    "lm.fit(crickets[['crickets']],crickets['temp'])      # double brackets needed for the column,  temp is the Y variable\n",
    "\n",
    "predictions = lm.predict(crickets[['crickets']])      # the yhats, predicted values, using crickets input variableb\n",
    "pred_diff = crickets['temp'] - predictions            # unexplained variance\n",
    "pred_diff_squared = pred_diff ** 2\n",
    "unexplained_var = sum(pred_diff_squared)              # total unexpl variance\n",
    "\n",
    "print \"R-squared: \" + str(1 - unexplained_var / total_var), \"1 - unexplained variance / total var\"\n",
    "\n",
    "predictions = lm.predict(crickets[['crickets']])\n",
    "pred_diff = mean_temp - predictions\n",
    "pred_diff_squared = pred_diff ** 2\n",
    "explained_var = sum(pred_diff_squared)\n",
    "\n",
    "print \"R-squared: \" + str(explained_var / total_var)"
   ]
  },
  {
   "cell_type": "code",
   "execution_count": 10,
   "metadata": {
    "collapsed": false
   },
   "outputs": [
    {
     "data": {
      "text/plain": [
       "0.69746514501673984"
      ]
     },
     "execution_count": 10,
     "metadata": {},
     "output_type": "execute_result"
    }
   ],
   "source": [
    "lm\n",
    "lm.score(crickets[['crickets']],crickets['temp'])   # r squared score using the lm object. using x and y variables"
   ]
  },
  {
   "cell_type": "markdown",
   "metadata": {},
   "source": [
    "### Exercise: (20 minutes)"
   ]
  },
  {
   "cell_type": "markdown",
   "metadata": {},
   "source": [
    "Another common metric (closely related to R squared) to see how good a regression is is the \"mean squared error\". Starting from this piece of documentation, calculate mean squared error for this model, both using SKLearn, and manually similar to the method above.\n",
    "\n",
    "http://scikit-learn.org/stable/modules/generated/sklearn.metrics.mean_squared_error.html"
   ]
  },
  {
   "cell_type": "code",
   "execution_count": 30,
   "metadata": {
    "collapsed": false
   },
   "outputs": [
    {
     "name": "stdout",
     "output_type": "stream",
     "text": [
      "12.7031592949\n",
      "12.7031592949 mse\n",
      "3.0151084033 mean abs error\n",
      "0.697465145017 metrics expl var score\n"
     ]
    }
   ],
   "source": [
    "# manual mean squared error\n",
    "error = predictions - crickets.temp\n",
    "\n",
    "error_sq = error**2\n",
    "\n",
    "mse = sum(error_sq)/len(error_sq)              # 12.70 mean squared error      error_sq.size can also be used\n",
    "print mse\n",
    "\n",
    "# sk learn method\n",
    "print metrics.mean_squared_error(crickets.temp, predictions), \"mse\"      # 12.70 same as above\n",
    "\n",
    "\n",
    "# other metrics to see the model \"score\",      looking at the sk learn metrics API. Regression metrics, clustering metrics\n",
    "                                                 # AUC Roc curve in the metrics\n",
    "print metrics.mean_absolute_error(crickets.temp, predictions), \"mean abs error\"\n",
    "\n",
    "print metrics.explained_variance_score(crickets.temp, predictions), \"metrics expl var score\""
   ]
  },
  {
   "cell_type": "code",
   "execution_count": 26,
   "metadata": {
    "collapsed": false
   },
   "outputs": [
    {
     "data": {
      "text/plain": [
       "15"
      ]
     },
     "execution_count": 26,
     "metadata": {},
     "output_type": "execute_result"
    }
   ],
   "source": [
    "error_sq.size"
   ]
  },
  {
   "cell_type": "markdown",
   "metadata": {},
   "source": [
    "# Cross validation"
   ]
  },
  {
   "cell_type": "markdown",
   "metadata": {},
   "source": [
    "We covered last week how cross validation can prevent overfitting. \n",
    "\n",
    "Here's a great illustration of overfitting: http://scikit-learn.org/stable/auto_examples/model_selection/plot_underfitting_overfitting.html"
   ]
  },
  {
   "cell_type": "markdown",
   "metadata": {},
   "source": [
    "Here's a visual reminder of what cross validation is:"
   ]
  },
  {
   "cell_type": "markdown",
   "metadata": {},
   "source": [
    "<img src='http://blog-test.goldenhelix.com/wp-content/uploads/2015/04/B-fig-1.jpg'>"
   ]
  },
  {
   "cell_type": "code",
   "execution_count": 3,
   "metadata": {
    "collapsed": false
   },
   "outputs": [],
   "source": [
    "from sklearn import cross_validation\n",
    "wd = '../../'                                    # working directory\n",
    "basketball = pd.read_csv(wd + 'basketball.csv')"
   ]
  },
  {
   "cell_type": "code",
   "execution_count": 55,
   "metadata": {
    "collapsed": false
   },
   "outputs": [
    {
     "data": {
      "text/plain": [
       "0    225\n",
       "1    180\n",
       "2    190\n",
       "3    180\n",
       "4    205\n",
       "5    225\n",
       "Name: weight, dtype: int64"
      ]
     },
     "execution_count": 55,
     "metadata": {},
     "output_type": "execute_result"
    }
   ],
   "source": [
    "basketball.head()            # predict the points per game, using all over variables (usual ML strategy)\n",
    "\n",
    "#basketball.iloc[0:5, 'weight'] # does not work,   iloc needs index    [0:5, 0]\n",
    "basketball.loc[0:5, 'weight']                     # loc uses the column name, object"
   ]
  },
  {
   "cell_type": "markdown",
   "metadata": {},
   "source": [
    "### Splitting the data up into \"X\" and \"Y\""
   ]
  },
  {
   "cell_type": "code",
   "execution_count": 36,
   "metadata": {
    "collapsed": false
   },
   "outputs": [],
   "source": [
    "basketball_x = basketball.loc[:,['height', 'weight', 'pct_fg', 'pct_ft']]   # input, regressors\n",
    "basketball_y = basketball.loc[:,['ppg']]                                    # predicted var"
   ]
  },
  {
   "cell_type": "markdown",
   "metadata": {},
   "source": [
    "#### 5 fold cross validation on this dataset"
   ]
  },
  {
   "cell_type": "code",
   "execution_count": 37,
   "metadata": {
    "collapsed": false
   },
   "outputs": [
    {
     "data": {
      "text/plain": [
       "sklearn.cross_validation.KFold(n=54, n_folds=5, shuffle=True, random_state=None)"
      ]
     },
     "execution_count": 37,
     "metadata": {},
     "output_type": "execute_result"
    }
   ],
   "source": [
    "#create a k fold crossval object\n",
    "kf = cross_validation.KFold(len(basketball), n_folds=5, shuffle=True)  # can add param: random_state=5, to have the same random numbers for each evaluation           \n",
    "kf"
   ]
  },
  {
   "cell_type": "code",
   "execution_count": 38,
   "metadata": {
    "collapsed": false
   },
   "outputs": [
    {
     "name": "stdout",
     "output_type": "stream",
     "text": [
      "~~~~ CROSS VALIDATION each fold ~~~~\n",
      "Model 1\n",
      "MSE: 70.2600408282\n",
      "R2: -0.29291588069\n",
      "Model 2\n",
      "MSE: 29.648013263\n",
      "R2: 0.13388598518\n",
      "Model 3\n",
      "MSE: 10.4800416576\n",
      "R2: -0.18868114039\n",
      "Model 4\n",
      "MSE: 57.0282357468\n",
      "R2: -0.528981654517\n",
      "Model 5\n",
      "MSE: 10.9765190681\n",
      "R2: -2.32985046355\n",
      "~~~~ SUMMARY OF CROSS VALIDATION ~~~~\n",
      "Mean of MSE for all folds: 35.6785701127\n",
      "Mean of R2 for all folds: -0.641308630794\n"
     ]
    }
   ],
   "source": [
    "mse_values = []\n",
    "scores = []\n",
    "n= 0\n",
    "print \"~~~~ CROSS VALIDATION each fold ~~~~\"\n",
    "for train_index, test_index in kf:                          # using linear regression (multivariable)\n",
    "    # for each fold, for dataset indices in the kf object\n",
    "    #fit the model on the training data (80% of data randomly selected). ilocate using the train_index\n",
    "    lm = linear_model.LinearRegression().fit(basketball_x.iloc[train_index], basketball_y.iloc[train_index])\n",
    "    # mean square error using ytrue and ypredicts,   append to the mse_values array\n",
    "    mse_values.append(metrics.mean_squared_error(basketball_y.iloc[test_index], lm.predict(basketball_x.iloc[test_index])))\n",
    "    # rsquared score using lm.score as above\n",
    "    scores.append(lm.score(basketball_x.loc[test_index], basketball_y.iloc[test_index]))    # score on the test set, not on the entire basketball_x,y set\n",
    "    n+=1\n",
    "    print 'Model', n\n",
    "    print 'MSE:', mse_values[n-1]\n",
    "    print 'R2:', scores[n-1]\n",
    "\n",
    "\n",
    "print \"~~~~ SUMMARY OF CROSS VALIDATION ~~~~\"\n",
    "print 'Mean of MSE for all folds:', np.mean(mse_values)\n",
    "print 'Mean of R2 for all folds:', np.mean(scores)                      # Rsquares are not good, shows with C.V. that the model is not better than random guessing\n",
    "# the model is not very applicable, the variables may not be linearly related, so the linearity assumption doesnt hold"
   ]
  },
  {
   "cell_type": "code",
   "execution_count": 100,
   "metadata": {
    "collapsed": false
   },
   "outputs": [
    {
     "name": "stdout",
     "output_type": "stream",
     "text": [
      "~~~~ Single Model ~~~~\n",
      "MSE of single model: 26.5654032851\n",
      "R2:  0.2222506313\n"
     ]
    }
   ],
   "source": [
    "lm = linear_model.LinearRegression().fit(basketball_x, basketball_y)\n",
    "print \"~~~~ Single Model ~~~~\"\n",
    "print 'MSE of single model:', metrics.mean_squared_error(basketball_y, lm.predict(basketball_x))\n",
    "print 'R2: ', lm.score(basketball_x, basketball_y)                     # R2 of single model is not very high"
   ]
  },
  {
   "cell_type": "markdown",
   "metadata": {},
   "source": [
    "## Can we make this model better? (15 minutes)"
   ]
  },
  {
   "cell_type": "markdown",
   "metadata": {},
   "source": [
    "**Exercise:** Try taking out features, and running the data through the same code as above, and seeing if you can identify any features that are not in fact adding to the likely accuracy of the model on _outside_ data."
   ]
  },
  {
   "cell_type": "code",
   "execution_count": 49,
   "metadata": {
    "collapsed": false
   },
   "outputs": [
    {
     "name": "stdout",
     "output_type": "stream",
     "text": [
      "~~~~ CROSS VALIDATION each fold ~~~~\n",
      "Model 1\n",
      "MSE: 61.3452488688\n",
      "R2: -0.128867070563\n",
      "Model 2\n",
      "MSE: 27.3297162199\n",
      "R2: 0.201610913043\n",
      "Model 3\n",
      "MSE: 10.5170926461\n",
      "R2: -0.192883586597\n",
      "Model 4\n",
      "MSE: 49.6466545678\n",
      "R2: -0.331074388821\n",
      "Model 5\n",
      "MSE: 10.7603354155\n",
      "R2: -2.26426872208\n",
      "~~~~ SUMMARY OF CROSS VALIDATION ~~~~\n",
      "Mean of MSE for all folds: 31.9198095436\n",
      "Mean of R2 for all folds: -0.543096571004\n"
     ]
    }
   ],
   "source": [
    "# try taking out weight,    still had negative Rsqares     mean Rsq -0.54 (improved a little over all vars)\n",
    "\n",
    "# take out weight, heigh,    still had negative Rsquares    mean Rsq -0.7\n",
    "\n",
    "# use only percent field goals       mean Rsq   -0.7\n",
    "basketball_x = basketball.loc[:,['height','pct_ft','pct_fg']]   # input, regressors\n",
    "basketball_y = basketball.loc[:,['ppg']] \n",
    "\n",
    "mse_values = []\n",
    "scores = []\n",
    "n= 0\n",
    "print \"~~~~ CROSS VALIDATION each fold ~~~~\"\n",
    "for train_index, test_index in kf:                          # using linear regression (multivariable)\n",
    "    # for each fold, for dataset indices in the kf object\n",
    "    #fit the model on the training data (80% of data randomly selected). ilocate using the train_index\n",
    "         #can use another sklearn function here too\n",
    "    lm = linear_model.LinearRegression().fit(basketball_x.iloc[train_index], basketball_y.iloc[train_index])\n",
    "    # mean square error using ytrue and ypredicts,   append to the mse_values array\n",
    "    mse_values.append(metrics.mean_squared_error(basketball_y.iloc[test_index], lm.predict(basketball_x.iloc[test_index])))\n",
    "    # rsquared score using lm.score as above\n",
    "    scores.append(lm.score(basketball_x.loc[test_index], basketball_y.iloc[test_index]))    # score on the test set, not on the entire basketball_x,y set\n",
    "    n+=1\n",
    "    print 'Model', n\n",
    "    print 'MSE:', mse_values[n-1]\n",
    "    print 'R2:', scores[n-1]\n",
    "\n",
    "\n",
    "print \"~~~~ SUMMARY OF CROSS VALIDATION ~~~~\"\n",
    "print 'Mean of MSE for all folds:', np.mean(mse_values)      # median could be used too, if we have odd# of folds, so that one bad outcome does not influence the score\n",
    "print 'Mean of R2 for all folds:', np.mean(scores),                       # Rsquares are not good, shows with C.V. that the model is not better than random guessing\n",
    "# the model is not very applicable, the variables may not be linearly related, so the linearity assumption doesnt hold\n",
    "\n",
    "# using only field goal percentage was the best model \n",
    "# next, using this, we can lm.fit  using only the pct_fg, and this model would be a better model (Rsq) for future data points\n"
   ]
  },
  {
   "cell_type": "markdown",
   "metadata": {},
   "source": [
    "# Regularization"
   ]
  },
  {
   "cell_type": "markdown",
   "metadata": {},
   "source": [
    "You just \"built\" several different models - functions that take in data of a particular form and then output predictions about that data - by selecting different variables.\n",
    "\n",
    "Now, we're going to talk about another way to \"build different models\" in the context of linear regression - regularization."
   ]
  },
  {
   "cell_type": "markdown",
   "metadata": {},
   "source": [
    "## Motivation"
   ]
  },
  {
   "cell_type": "markdown",
   "metadata": {},
   "source": [
    "When you have many dependent variables, or predictors, trying to predict some outcome, a sign that these variables are overfitting is if the coefficients get extremely big. Regularization makes your model have a \"penalty\" for having large coefficients."
   ]
  },
  {
   "cell_type": "markdown",
   "metadata": {},
   "source": [
    "## Mathematics"
   ]
  },
  {
   "cell_type": "markdown",
   "metadata": {},
   "source": [
    "Recall that when we form a linear model, we select the model that minimizes the squared error. For a model of the form\n",
    "$$y_i = f(x_i) + e_i$$\n",
    "we minimize the sum\n",
    "$$\\sum_{i}{\\left(\\hat{y}_i - y_i \\right)^2}$$\n",
    "This is an example of a _loss function_, a function that measures the cost of inaccurate model predictions. To apply the technique of regularization, we modify the loss function with a term that penalizes more complex models. For example, we could use a loss function of the form:\n",
    "$$\\sum_{i}{\\left(\\hat{y}_i - y_i \\right)^2 + \\alpha \\theta_i ^2}$$\n",
    "\n",
    "or "
   ]
  },
  {
   "cell_type": "markdown",
   "metadata": {},
   "source": [
    "The \"alpha\" term in there represents the \"amount of regularization\" we apply to our model. The higher alpha, the more we want to \"penalize\" our model for having large coefficients."
   ]
  },
  {
   "cell_type": "markdown",
   "metadata": {},
   "source": [
    "## \"Lasso\" and \"Ridge\" regression"
   ]
  },
  {
   "cell_type": "markdown",
   "metadata": {},
   "source": [
    "Lasso regression applies what is called \"L1\" regularization to the model parameters, minimizing the cost function:\n",
    "\n",
    "$$\\sum_{i}{\\left(\\hat{y}_i - y_i \\right)^2 + \\alpha |\\theta_i|}$$\n",
    "\n",
    "By contrast, \"Ridge\" regression applies an \"L2\" regularization to the model parameters, minimizing the cost function:\n",
    "\n",
    "$$\\sum_{i}{\\left(\\hat{y}_i - y_i \\right)^2 + \\alpha \\theta_i ^2}$$"
   ]
  },
  {
   "cell_type": "markdown",
   "metadata": {},
   "source": [
    "## Boston dataset example"
   ]
  },
  {
   "cell_type": "code",
   "execution_count": 14,
   "metadata": {
    "collapsed": false
   },
   "outputs": [
    {
     "data": {
      "image/png": "[encoded data removed]",
      "text/plain": [
       "<matplotlib.figure.Figure at 0xbac07b8>"
      ]
     },
     "metadata": {},
     "output_type": "display_data"
    },
    {
     "name": "stdout",
     "output_type": "stream",
     "text": [
      "r^2: 0.740607742865\n"
     ]
    }
   ],
   "source": [
    "# Work through the cross-validation example, adding in r^2 calculations.\n",
    "# Does cross-validation produce a better fit in this case? Why or why not?\n",
    "\n",
    "import pandas as pd\n",
    "\n",
    "# Without CV\n",
    "\n",
    "from sklearn import datasets\n",
    "from sklearn.cross_validation import cross_val_predict, cross_val_score\n",
    "from sklearn import linear_model\n",
    "import matplotlib.pyplot as plt\n",
    "\n",
    "boston = datasets.load_boston()   #sklearn dataset\n",
    "X = boston.data                # 2x2 array, instead of a dataframe\n",
    "y = boston.target\n",
    "\n",
    "lr = linear_model.LinearRegression()\n",
    "lr.fit(boston.data, y)\n",
    "predicted_nocv = lr.predict(boston.data)\n",
    "\n",
    "fig, ax = plt.subplots()\n",
    "ax.scatter(y, predicted_nocv)\n",
    "ax.plot([y.min(), y.max()], [y.min(), y.max()], 'k--', lw=4)\n",
    "ax.set_xlabel('Measured')\n",
    "ax.set_ylabel('Predicted')\n",
    "plt.show()\n",
    "print \"r^2:\", lr.score(X, y)"
   ]
  },
  {
   "cell_type": "code",
   "execution_count": 5,
   "metadata": {
    "collapsed": false
   },
   "outputs": [
    {
     "data": {
      "text/plain": [
       "(array([  21.,   55.,   82.,  154.,   84.,   41.,   30.,    8.,   10.,   21.]),\n",
       " array([  5. ,   9.5,  14. ,  18.5,  23. ,  27.5,  32. ,  36.5,  41. ,\n",
       "         45.5,  50. ]),\n",
       " <a list of 10 Patch objects>)"
      ]
     },
     "execution_count": 5,
     "metadata": {},
     "output_type": "execute_result"
    },
    {
     "data": {
      "image/png": "[encoded data removed]",
      "text/plain": [
       "<matplotlib.figure.Figure at 0xaafa278>"
      ]
     },
     "metadata": {},
     "output_type": "display_data"
    }
   ],
   "source": [
    "boston.feature_names       # feature names of the boston data\n",
    "X.shape                              #506 rows\n",
    "y.shape\n",
    "plt.hist(y)              # histogram of prices"
   ]
  },
  {
   "cell_type": "markdown",
   "metadata": {},
   "source": [
    "### R^2 with cross validation"
   ]
  },
  {
   "cell_type": "code",
   "execution_count": 15,
   "metadata": {
    "collapsed": false
   },
   "outputs": [
    {
     "name": "stdout",
     "output_type": "stream",
     "text": [
      "~~~~ CROSS VALIDATION each fold ~~~~\n",
      "Model 1\n",
      "MSE: 20.9028436804\n",
      "R2: 0.733020681871\n",
      "Model 2\n",
      "MSE: 41.042081016\n",
      "R2: 0.599320190876\n",
      "Model 3\n",
      "MSE: 16.4340472377\n",
      "R2: 0.7469498642\n",
      "Model 4\n",
      "MSE: 25.303963915\n",
      "R2: 0.707166893694\n",
      "Model 5\n",
      "MSE: 21.6536146707\n",
      "R2: 0.758017546889\n",
      "~~~~ SUMMARY OF CROSS VALIDATION ~~~~\n",
      "Mean of MSE for all folds: 25.067310104\n",
      "Mean of R2 for all folds: 0.708895035506 Lin regression with CV\n"
     ]
    }
   ],
   "source": [
    "# With CV\n",
    "\n",
    "lm = linear_model.LinearRegression()\n",
    "\n",
    "X = pd.DataFrame(boston.data)\n",
    "y = pd.DataFrame(boston.target)\n",
    "kf = cross_validation.KFold(len(boston.target), n_folds=5, shuffle=True,random_state=5)\n",
    "mse_values = []\n",
    "scores = []\n",
    "n= 0\n",
    "print \"~~~~ CROSS VALIDATION each fold ~~~~\"\n",
    "for train_index, test_index in kf:\n",
    "    lm.fit(X.iloc[train_index], y.iloc[train_index])\n",
    "    mse_values.append(metrics.mean_squared_error(y.iloc[test_index], lm.predict(X.iloc[test_index])))\n",
    "    scores.append(lm.score(X.iloc[test_index], y.iloc[test_index]))\n",
    "    n+=1\n",
    "    print 'Model', n\n",
    "    print 'MSE:', mse_values[n-1]\n",
    "    print 'R2:', scores[n-1]\n",
    "\n",
    "\n",
    "print \"~~~~ SUMMARY OF CROSS VALIDATION ~~~~\"\n",
    "print 'Mean of MSE for all folds:', np.mean(mse_values)\n",
    "print 'Mean of R2 for all folds:', np.mean(scores), \"Lin regression with CV\""
   ]
  },
  {
   "cell_type": "markdown",
   "metadata": {},
   "source": [
    "**Explanation:** Linear regression is slightly overfitting.   Rsq of CV is lower than the full data"
   ]
  },
  {
   "cell_type": "code",
   "execution_count": 45,
   "metadata": {
    "collapsed": false
   },
   "outputs": [
    {
     "name": "stdout",
     "output_type": "stream",
     "text": [
      "~~~~ CROSS VALIDATION each fold ~~~~\n",
      "Model 1\n",
      "MSE: 21.6305923844\n",
      "R2: 0.723725589981\n",
      "Model 2\n",
      "MSE: 41.5154775917\n",
      "R2: 0.594698581911\n",
      "Model 3\n",
      "MSE: 16.4458894294\n",
      "R2: 0.746767519086\n",
      "Model 4\n",
      "MSE: 24.7248327996\n",
      "R2: 0.71386895682\n",
      "Model 5\n",
      "MSE: 21.725296147\n",
      "R2: 0.757216495437\n",
      "~~~~ SUMMARY OF CROSS VALIDATION ~~~~\n",
      "Mean of MSE for all folds: 25.2084176704\n",
      "Mean of R2 for all folds: 0.707255428647 Ridge Reg with CV\n"
     ]
    }
   ],
   "source": [
    "# With CV\n",
    "\n",
    "# lm = linear_model.Ridge()              # ridge regression instead of linear regres. alpha=1.0 by default. penalize the coffeficients\n",
    "# predicted_cv = cross_val_predict(lr, X, y, cv=5)\n",
    "\n",
    "X = pd.DataFrame(boston.data)\n",
    "y = pd.DataFrame(boston.target)\n",
    "kf = cross_validation.KFold(len(boston.target), n_folds=5, shuffle=True,random_state=5)\n",
    "# print kf\n",
    "# for train, test in kf:\n",
    "#     print(test)\n",
    "    \n",
    "mse_values = []\n",
    "scores = []\n",
    "n= 0\n",
    "print \"~~~~ CROSS VALIDATION each fold ~~~~\"\n",
    "for train_index, test_index in kf:\n",
    "    lm = linear_model.Ridge().fit(X.iloc[train_index], y.iloc[train_index])\n",
    "    mse_values.append(metrics.mean_squared_error(y.iloc[test_index], lm.predict(X.iloc[test_index])))\n",
    "    scores.append(lm.score(X.iloc[test_index], y.iloc[test_index]))\n",
    "    n+=1\n",
    "    print 'Model', n\n",
    "    print 'MSE:', mse_values[n-1]\n",
    "    print 'R2:', scores[n-1]\n",
    "\n",
    "\n",
    "print \"~~~~ SUMMARY OF CROSS VALIDATION ~~~~\"\n",
    "print 'Mean of MSE for all folds:', np.mean(mse_values)\n",
    "print 'Mean of R2 for all folds:', np.mean(scores), \"Ridge Reg with CV\"          # Rsquared went down a little from linear reg. (not using random_state)"
   ]
  },
  {
   "cell_type": "markdown",
   "metadata": {},
   "source": [
    "### Ridge regression example of tuning alpha parameter"
   ]
  },
  {
   "cell_type": "code",
   "execution_count": 16,
   "metadata": {
    "collapsed": false
   },
   "outputs": [
    {
     "name": "stdout",
     "output_type": "stream",
     "text": [
      "~~~~ CROSS VALIDATION each fold ~~~~\n",
      "Model 1\n",
      "MSE: 20.9028436804\n",
      "R2: 0.733020681871\n",
      "Model 2\n",
      "MSE: 41.042081016\n",
      "R2: 0.599320190876\n",
      "Model 3\n",
      "MSE: 16.4340472377\n",
      "R2: 0.7469498642\n",
      "Model 4\n",
      "MSE: 25.303963915\n",
      "R2: 0.707166893694\n",
      "Model 5\n",
      "MSE: 21.6536146707\n",
      "R2: 0.758017546889\n",
      "~~~~ SUMMARY OF CROSS VALIDATION ~~~~\n",
      "Mean of MSE for all folds: 25.067310104\n",
      "Mean of R2 for all folds: 0.708895035506\n"
     ]
    }
   ],
   "source": [
    "# Note the \"alpha = 0.5\" method in     **looks like alpha=1.0 in the .18 version of sklearn\n",
    "\n",
    "# http://scikit-learn.org/stable/modules/generated/sklearn.linear_model.Ridge.html#sklearn.linear_model.Ridge\n",
    "\n",
    "# lm = linear_model.Ridge()\n",
    "# predicted_cv = cross_val_predict(lr, X, y, cv=5)\n",
    "\n",
    "X = pd.DataFrame(boston.data)\n",
    "y = pd.DataFrame(boston.target)\n",
    "kf = cross_validation.KFold(len(boston.target), n_folds=5, shuffle=True,random_state=5)\n",
    "mse_values = []\n",
    "scores = []\n",
    "n= 0\n",
    "print \"~~~~ CROSS VALIDATION each fold ~~~~\"\n",
    "for train_index, test_index in kf:             #linear regression command\n",
    "    lm = linear_model.LinearRegression().fit(X.iloc[train_index], y.iloc[train_index])\n",
    "    mse_values.append(metrics.mean_squared_error(y.iloc[test_index], lm.predict(X.iloc[test_index])))\n",
    "    scores.append(lm.score(X.iloc[test_index], y.iloc[test_index]))\n",
    "    n+=1\n",
    "    print 'Model', n\n",
    "    print 'MSE:', mse_values[n-1]\n",
    "    print 'R2:', scores[n-1]\n",
    "\n",
    "\n",
    "print \"~~~~ SUMMARY OF CROSS VALIDATION ~~~~\"\n",
    "print 'Mean of MSE for all folds:', np.mean(mse_values)\n",
    "print 'Mean of R2 for all folds:', np.mean(scores)            #Rsq increased just a little bit with ridge regression"
   ]
  },
  {
   "cell_type": "markdown",
   "metadata": {},
   "source": [
    "### Exercise (20 minutes): Make a plot of the different cross validated scores of this model against different values of alpha to find the optimal alpha  "
   ]
  },
  {
   "cell_type": "markdown",
   "metadata": {},
   "source": [
    "http://scikit-learn.org/stable/modules/generated/sklearn.linear_model.Ridge.html#sklearn.linear_model.Ridge"
   ]
  },
  {
   "cell_type": "markdown",
   "metadata": {},
   "source": [
    "#### To get you started:"
   ]
  },
  {
   "cell_type": "code",
   "execution_count": 54,
   "metadata": {
    "collapsed": false
   },
   "outputs": [
    {
     "name": "stdout",
     "output_type": "stream",
     "text": [
      "Alpha: 1e-10\n",
      "21.8977792177 MSE Score\n",
      "Alpha: 1e-09\n",
      "21.8977792177 MSE Score\n",
      "Alpha: 1e-08\n",
      "21.8977792177 MSE Score\n",
      "Alpha: 1e-07\n",
      "21.8977792177 MSE Score\n",
      "Alpha: 1e-06\n",
      "21.8977792177 MSE Score\n",
      "Alpha: 1e-05\n",
      "21.8977792177 MSE Score\n",
      "Alpha: 0.0001\n",
      "21.8977792218 MSE Score\n",
      "Alpha: 0.001\n",
      "21.8977796241 MSE Score\n",
      "Alpha: 0.01\n",
      "21.8978193911 MSE Score\n",
      "Alpha: 0.1\n",
      "21.9013688822 MSE Score\n",
      "Alpha: 1.0\n",
      "22.0478977951 MSE Score\n",
      "Alpha: 10.0\n",
      "22.6655141002 MSE Score\n",
      "Alpha: 100.0\n",
      "23.8221486889 MSE Score\n",
      "Alpha: 1000.0\n",
      "27.675317375 MSE Score\n",
      "Alpha: 10000.0\n",
      "36.7311008026 MSE Score\n",
      "Alpha: 100000.0\n",
      "53.5447690249 MSE Score\n",
      "Alpha: 1000000.0\n",
      "61.2585977318 MSE Score\n",
      "Alpha: 10000000.0\n",
      "66.8672548997 MSE Score\n",
      "Alpha: 100000000.0\n",
      "79.3120208723 MSE Score\n",
      "Alpha: 1000000000.0\n",
      "83.8022407918 MSE Score\n",
      "Alpha: 10000000000.0\n",
      "84.356537364 MSE Score\n"
     ]
    },
    {
     "data": {
      "text/plain": [
       "<matplotlib.text.Text at 0xdc274e0>"
      ]
     },
     "execution_count": 54,
     "metadata": {},
     "output_type": "execute_result"
    },
    {
     "data": {
      "image/png": "[encoded data removed]",
      "text/plain": [
       "<matplotlib.figure.Figure at 0xcc7bb70>"
      ]
     },
     "metadata": {},
     "output_type": "display_data"
    }
   ],
   "source": [
    "mse = []\n",
    "\n",
    "alphas = np.logspace(-10, 10, 21)    #logarithmic space 1e-10 ... 1e10\n",
    "for a in alphas:\n",
    "    print 'Alpha:', a\n",
    "    lm = linear_model.Ridge(alpha=a)\n",
    "    lm.fit(X, y)\n",
    "#     print lm.coef_\n",
    "    print metrics.mean_squared_error(y, lm.predict(X)), \"MSE Score\"\n",
    "    mse.append(metrics.mean_squared_error(y, lm.predict(X)))\n",
    "    \n",
    "\n",
    "\n",
    "plt.bar(np.log(alphas),mse)\n",
    "plt.xlabel(\"log alpha\"); plt.ylabel(\"MSE\")          # two commands separated by a \";\"\n",
    "# plt.bar(alphas,mse,log=True)       #logarithm of y values, not x\n",
    "\n"
   ]
  },
  {
   "cell_type": "code",
   "execution_count": 119,
   "metadata": {
    "collapsed": false,
    "scrolled": false
   },
   "outputs": [
    {
     "name": "stdout",
     "output_type": "stream",
     "text": [
      "Alpha: 1e-10\n",
      "Mean MSE for fold alpha:  1e-10 37.2228436366\n",
      "Alpha: 1e-09\n",
      "Mean MSE for fold alpha:  1e-09 37.2228436322\n",
      "Alpha: 1e-08\n",
      "Mean MSE for fold alpha:  1e-08 37.2228435873\n",
      "Alpha: 1e-07\n",
      "Mean MSE for fold alpha:  1e-07 37.2228431385\n",
      "Alpha: 1e-06\n",
      "Mean MSE for fold alpha:  1e-06 37.2228386511\n",
      "Alpha: 1e-05\n",
      "Mean MSE for fold alpha:  1e-05 37.2227937779\n",
      "Alpha: 0.0001\n",
      "Mean MSE for fold alpha:  0.0001 37.2223451187\n",
      "Alpha: 0.001\n",
      "Mean MSE for fold alpha:  0.001 37.2178658046\n",
      "Alpha: 0.01\n",
      "Mean MSE for fold alpha:  0.01 37.173789125\n",
      "Alpha: 0.1\n",
      "Mean MSE for fold alpha:  0.1 36.7947970695\n",
      "Alpha: 1.0\n",
      "Mean MSE for fold alpha:  1.0 35.3440684502\n",
      "Alpha: 10.0\n",
      "Mean MSE for fold alpha:  10.0 33.4578582421\n",
      "Alpha: 100.0\n",
      "Mean MSE for fold alpha:  100.0 29.9250795432\n",
      "Alpha: 1000.0\n",
      "Mean MSE for fold alpha:  1000.0 32.8203844751\n",
      "Alpha: 10000.0\n",
      "Mean MSE for fold alpha:  10000.0 44.5600682805\n",
      "Alpha: 100000.0\n",
      "Mean MSE for fold alpha:  100000.0 61.1800030549\n",
      "Alpha: 1000000.0\n",
      "Mean MSE for fold alpha:  1000000.0 68.4371611237\n",
      "Alpha: 10000000.0\n",
      "Mean MSE for fold alpha:  10000000.0 77.4070996728\n",
      "Alpha: 100000000.0\n",
      "Mean MSE for fold alpha:  100000000.0 91.6856432592\n",
      "Alpha: 1000000000.0\n",
      "Mean MSE for fold alpha:  1000000000.0 95.5340264147\n",
      "Alpha: 10000000000.0\n",
      "Mean MSE for fold alpha:  10000000000.0 95.9821658788\n"
     ]
    },
    {
     "data": {
      "text/plain": [
       "<matplotlib.text.Text at 0x107de8d0>"
      ]
     },
     "execution_count": 119,
     "metadata": {},
     "output_type": "execute_result"
    },
    {
     "data": {
      "image/png": "[encoded data removed]",
      "text/plain": [
       "<matplotlib.figure.Figure at 0xde4aac8>"
      ]
     },
     "metadata": {},
     "output_type": "display_data"
    }
   ],
   "source": [
    "#### cross validation                            # shuffle data before splitting into braches. split into5 subsets once\n",
    "                                                 # with shuffle on, can some datapoints be repeated in test subsets?no.\n",
    "                                                # shuffle off splits the data and no points are repeated in the test set\n",
    "kf = cross_validation.KFold(len(boston.target), n_folds=5)  #shuffle=True,random_state=5\n",
    "mse_cv_values = []    #store the mean mse (from CV) for each alpha\n",
    "\n",
    "\n",
    "alphas = np.logspace(-10, 10, 21)    #logarithmic space 1e-10 ... 1e10\n",
    "for a in alphas:\n",
    "    print 'Alpha:', a\n",
    "    mse = []              # store the mses from each CV\n",
    "    \n",
    "    # cross validation\n",
    "    for train_index, test_index in kf:             #linear regression command\n",
    "#         print test_index\n",
    "        lm = linear_model.Ridge(alpha=a).fit(X.iloc[train_index], y.iloc[train_index])\n",
    "        mse.append(metrics.mean_squared_error(y.iloc[test_index], lm.predict(X.iloc[test_index])))\n",
    "\n",
    "    print \"Mean MSE for fold alpha: \", a, np.mean(mse)\n",
    "    mse_cv_values.append(np.mean(mse))\n",
    "#end alphas loop    \n",
    "\n",
    "\n",
    "plt.bar(np.log(alphas),mse_cv_values)\n",
    "plt.xlabel(\"log alpha\"); plt.ylabel(\"CV Mean MSE\")\n",
    "\n",
    "# with shuffle=false the minimizing alpha =1000"
   ]
  },
  {
   "cell_type": "markdown",
   "metadata": {},
   "source": [
    "### Or we can use grid search to make this faster"
   ]
  },
  {
   "cell_type": "code",
   "execution_count": 78,
   "metadata": {
    "collapsed": false
   },
   "outputs": [
    {
     "data": {
      "text/plain": [
       "GridSearchCV(cv=5, error_score='raise',\n",
       "       estimator=Ridge(alpha=1.0, copy_X=True, fit_intercept=True, max_iter=None,\n",
       "   normalize=False, random_state=None, solver='auto', tol=0.001),\n",
       "       fit_params={}, iid=True, n_jobs=1,\n",
       "       param_grid={'alpha': array([  1.00000e-10,   1.00000e-09,   1.00000e-08,   1.00000e-07,\n",
       "         1.00000e-06,   1.00000e-05,   1.00000e-04,   1.00000e-03,\n",
       "         1.00000e-02,   1.00000e-01,   1.00000e+00,   1.00000e+01,\n",
       "         1.00000e+02,   1.00000e+03,   1.00000e+04,   1.00000e+05,\n",
       "         1.00000e+06,   1.00000e+07,   1.00000e+08,   1.00000e+09,\n",
       "         1.00000e+10])},\n",
       "       pre_dispatch='2*n_jobs', refit=True, scoring='mean_squared_error',\n",
       "       verbose=0)"
      ]
     },
     "execution_count": 78,
     "metadata": {},
     "output_type": "execute_result"
    }
   ],
   "source": [
    "from sklearn import grid_search\n",
    "                         # http://scikit-learn.org/stable/modules/generated/sklearn.model_selection.GridSearchCV.html\n",
    "alphas = np.logspace(-10, 10, 21)       # exponential alphas,     grid search alphas with CV (default folds=3)\n",
    "gs = grid_search.GridSearchCV(\n",
    "    cv=5,\n",
    "    estimator=linear_model.Ridge(),\n",
    "    param_grid={'alpha': alphas},\n",
    "    scoring='mean_squared_error')\n",
    "\n",
    "gs.fit(X, y)                         #cv default =3,   also tried cv=5.  Shuffle=False by default here\n"
   ]
  },
  {
   "cell_type": "markdown",
   "metadata": {},
   "source": [
    "##### Best score "
   ]
  },
  {
   "cell_type": "code",
   "execution_count": 79,
   "metadata": {
    "collapsed": false
   },
   "outputs": [
    {
     "name": "stdout",
     "output_type": "stream",
     "text": [
      "-29.8913056974\n"
     ]
    }
   ],
   "source": [
    "print gs.best_score_       #didnt match the best score of the manual for-loop above (with cv didnt match either)\n",
    "                           # could be that the random state was different for this 5fold grid search"
   ]
  },
  {
   "cell_type": "markdown",
   "metadata": {},
   "source": [
    "##### mean squared error here comes in negative, so let's make it positive."
   ]
  },
  {
   "cell_type": "code",
   "execution_count": 80,
   "metadata": {
    "collapsed": false
   },
   "outputs": [
    {
     "name": "stdout",
     "output_type": "stream",
     "text": [
      "29.8913056974\n"
     ]
    }
   ],
   "source": [
    "print -gs.best_score_ "
   ]
  },
  {
   "cell_type": "code",
   "execution_count": 112,
   "metadata": {
    "collapsed": false
   },
   "outputs": [],
   "source": [
    "# plt.bar(np.log(alphas),gs.grid_scores_)    #grid scores list of mean, std, alpha param. plt didt work\n",
    "\n",
    "# type(gs.grid_scores_   #list"
   ]
  },
  {
   "cell_type": "markdown",
   "metadata": {},
   "source": [
    "##### explains which grid_search setup worked best"
   ]
  },
  {
   "cell_type": "code",
   "execution_count": 81,
   "metadata": {
    "collapsed": false
   },
   "outputs": [
    {
     "name": "stdout",
     "output_type": "stream",
     "text": [
      "Ridge(alpha=100.0, copy_X=True, fit_intercept=True, max_iter=None,\n",
      "   normalize=False, random_state=None, solver='auto', tol=0.001)\n"
     ]
    }
   ],
   "source": [
    "print gs.best_estimator_    #optimizing value    (alpha = 100 best estimator)"
   ]
  },
  {
   "cell_type": "markdown",
   "metadata": {},
   "source": [
    "##### shows all the grid pairings and their performances."
   ]
  },
  {
   "cell_type": "code",
   "execution_count": 77,
   "metadata": {
    "collapsed": false
   },
   "outputs": [
    {
     "name": "stdout",
     "output_type": "stream",
     "text": [
      "[mean: -37.17395, std: 23.09935, params: {'alpha': 1e-10}, mean: -37.17395, std: 23.09935, params: {'alpha': 1.0000000000000001e-09}, mean: -37.17395, std: 23.09935, params: {'alpha': 1e-08}, mean: -37.17395, std: 23.09936, params: {'alpha': 9.9999999999999995e-08}, mean: -37.17394, std: 23.09936, params: {'alpha': 9.9999999999999995e-07}, mean: -37.17390, std: 23.09937, params: {'alpha': 1.0000000000000001e-05}, mean: -37.17345, std: 23.09951, params: {'alpha': 0.0001}, mean: -37.16897, std: 23.10090, params: {'alpha': 0.001}, mean: -37.12496, std: 23.11456, params: {'alpha': 0.01}, mean: -36.74647, std: 23.22926, params: {'alpha': 0.10000000000000001}, mean: -35.29740, std: 23.51801, params: {'alpha': 1.0}, mean: -33.41434, std: 21.53171, params: {'alpha': 10.0}, mean: -29.89131, std: 13.42948, params: {'alpha': 100.0}, mean: -32.78886, std: 13.62586, params: {'alpha': 1000.0}, mean: -44.52616, std: 22.30288, params: {'alpha': 10000.0}, mean: -61.13753, std: 29.88650, params: {'alpha': 100000.0}, mean: -68.39016, std: 31.52366, params: {'alpha': 1000000.0}, mean: -77.32951, std: 31.99962, params: {'alpha': 10000000.0}, mean: -91.57211, std: 37.85360, params: {'alpha': 100000000.0}, mean: -95.41340, std: 39.63557, params: {'alpha': 1000000000.0}, mean: -95.86077, std: 39.83991, params: {'alpha': 10000000000.0}]\n"
     ]
    }
   ],
   "source": [
    "print gs.grid_scores_  # shape of the MSE was different than above CV with shuffle on.\n",
    "                       #for grid search MSE scores decreased then increased, with a min in the middle \n",
    "                  \n",
    "                       # with shuffle=false, a similar curve for MSE resulted. and the minimizer was similar (1000)\n"
   ]
  },
  {
   "cell_type": "code",
   "execution_count": 120,
   "metadata": {
    "collapsed": false
   },
   "outputs": [],
   "source": [
    "# gs.cv_results_         # attribute in 0.18 version of sk learn"
   ]
  },
  {
   "cell_type": "markdown",
   "metadata": {},
   "source": [
    "## Mini-Project (rest of class / first 30-60 minutes of next class)"
   ]
  },
  {
   "cell_type": "code",
   "execution_count": 150,
   "metadata": {
    "collapsed": false
   },
   "outputs": [
    {
     "data": {
      "text/html": [
       "<div>\n",
       "<table border=\"1\" class=\"dataframe\">\n",
       "  <thead>\n",
       "    <tr style=\"text-align: right;\">\n",
       "      <th></th>\n",
       "      <th>sx</th>\n",
       "      <th>rk</th>\n",
       "      <th>yr</th>\n",
       "      <th>dg</th>\n",
       "      <th>yd</th>\n",
       "      <th>sl</th>\n",
       "    </tr>\n",
       "  </thead>\n",
       "  <tbody>\n",
       "    <tr>\n",
       "      <th>0</th>\n",
       "      <td>male</td>\n",
       "      <td>full</td>\n",
       "      <td>25</td>\n",
       "      <td>doctorate</td>\n",
       "      <td>35</td>\n",
       "      <td>36350</td>\n",
       "    </tr>\n",
       "    <tr>\n",
       "      <th>1</th>\n",
       "      <td>male</td>\n",
       "      <td>full</td>\n",
       "      <td>13</td>\n",
       "      <td>doctorate</td>\n",
       "      <td>22</td>\n",
       "      <td>35350</td>\n",
       "    </tr>\n",
       "    <tr>\n",
       "      <th>2</th>\n",
       "      <td>male</td>\n",
       "      <td>full</td>\n",
       "      <td>10</td>\n",
       "      <td>doctorate</td>\n",
       "      <td>23</td>\n",
       "      <td>28200</td>\n",
       "    </tr>\n",
       "    <tr>\n",
       "      <th>3</th>\n",
       "      <td>female</td>\n",
       "      <td>full</td>\n",
       "      <td>7</td>\n",
       "      <td>doctorate</td>\n",
       "      <td>27</td>\n",
       "      <td>26775</td>\n",
       "    </tr>\n",
       "    <tr>\n",
       "      <th>4</th>\n",
       "      <td>male</td>\n",
       "      <td>full</td>\n",
       "      <td>19</td>\n",
       "      <td>masters</td>\n",
       "      <td>30</td>\n",
       "      <td>33696</td>\n",
       "    </tr>\n",
       "  </tbody>\n",
       "</table>\n",
       "</div>"
      ],
      "text/plain": [
       "       sx    rk  yr         dg  yd     sl\n",
       "0    male  full  25  doctorate  35  36350\n",
       "1    male  full  13  doctorate  22  35350\n",
       "2    male  full  10  doctorate  23  28200\n",
       "3  female  full   7  doctorate  27  26775\n",
       "4    male  full  19    masters  30  33696"
      ]
     },
     "execution_count": 150,
     "metadata": {},
     "output_type": "execute_result"
    }
   ],
   "source": [
    "wd = '../../data/'\n",
    "salary = pd.read_csv(wd + 'salary.csv')\n",
    "salary.head()"
   ]
  }
 ],
 "metadata": {
  "kernelspec": {
   "display_name": "Python [Root]",
   "language": "python",
   "name": "Python [Root]"
  },
  "language_info": {
   "codemirror_mode": {
    "name": "ipython",
    "version": 2
   },
   "file_extension": ".py",
   "mimetype": "text/x-python",
   "name": "python",
   "nbconvert_exporter": "python",
   "pygments_lexer": "ipython2",
   "version": "2.7.12"
  },
  "toc": {
   "toc_cell": false,
   "toc_number_sections": true,
   "toc_threshold": 6,
   "toc_window_display": false
  }
 },
 "nbformat": 4,
 "nbformat_minor": 0
}
