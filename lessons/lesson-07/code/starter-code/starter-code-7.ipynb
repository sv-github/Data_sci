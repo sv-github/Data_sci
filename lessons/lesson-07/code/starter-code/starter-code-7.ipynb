{
 "cells": [
  {
   "cell_type": "markdown",
   "metadata": {},
   "source": [
    "# Lesson 7"
   ]
  },
  {
   "cell_type": "code",
   "execution_count": 2,
   "metadata": {
    "collapsed": false
   },
   "outputs": [],
   "source": [
    "import numpy as np\n",
    "import pandas as pd\n",
    "from sklearn import linear_model, metrics\n",
    "import matplotlib.pyplot as plt\n",
    "%matplotlib inline"
   ]
  },
  {
   "cell_type": "markdown",
   "metadata": {},
   "source": [
    "We've learned he basics of linear regression, with one and multiple variables. \n",
    "\n",
    "Today we're going to focus on the question of whether one model or set of models is better than another.\n",
    "\n",
    "We're going to start by going over classical methods, and then talk about methods using cross validation."
   ]
  },
  {
   "cell_type": "markdown",
   "metadata": {},
   "source": [
    "# Introduction"
   ]
  },
  {
   "cell_type": "markdown",
   "metadata": {},
   "source": [
    "Why use classical metrics, like R^2, at all?\n",
    "\n",
    "Why not just use cross-validation accuracy, since the goal is to make predictions on out-of-sample data?\n",
    "\n",
    "To understand reason, recall bias-variance:"
   ]
  },
  {
   "cell_type": "markdown",
   "metadata": {},
   "source": [
    "<img src=http://i.stack.imgur.com/JLDET.png>"
   ]
  },
  {
   "cell_type": "markdown",
   "metadata": {},
   "source": [
    "**Discussion:** Is linear regression a \"high bias\" or \"high variance\" model?"
   ]
  },
  {
   "cell_type": "markdown",
   "metadata": {},
   "source": [
    "Recall, in the context of regression, what overfitting means:"
   ]
  },
  {
   "cell_type": "markdown",
   "metadata": {},
   "source": [
    "<img src=\"https://cloud.githubusercontent.com/assets/846010/11647961/77c2781e-9d3c-11e5-9793-363dab993e14.png\">"
   ]
  },
  {
   "cell_type": "markdown",
   "metadata": {},
   "source": [
    "## Classical metrics for understanding model fit"
   ]
  },
  {
   "cell_type": "markdown",
   "metadata": {},
   "source": [
    "### R Squared"
   ]
  },
  {
   "cell_type": "markdown",
   "metadata": {},
   "source": [
    "Formula = (explained variance) / (total variance)"
   ]
  },
  {
   "cell_type": "markdown",
   "metadata": {},
   "source": [
    "<img src=http://www.rapidinsightinc.com/wordpress/wp-content/uploads/r-squared.png>"
   ]
  },
  {
   "cell_type": "code",
   "execution_count": 4,
   "metadata": {
    "collapsed": false
   },
   "outputs": [
    {
     "data": {
      "text/html": [
       "<div>\n",
       "<table border=\"1\" class=\"dataframe\">\n",
       "  <thead>\n",
       "    <tr style=\"text-align: right;\">\n",
       "      <th></th>\n",
       "      <th>crickets</th>\n",
       "      <th>temp</th>\n",
       "    </tr>\n",
       "  </thead>\n",
       "  <tbody>\n",
       "    <tr>\n",
       "      <th>0</th>\n",
       "      <td>20.000000</td>\n",
       "      <td>88.599998</td>\n",
       "    </tr>\n",
       "    <tr>\n",
       "      <th>1</th>\n",
       "      <td>16.000000</td>\n",
       "      <td>71.599998</td>\n",
       "    </tr>\n",
       "    <tr>\n",
       "      <th>2</th>\n",
       "      <td>19.799999</td>\n",
       "      <td>93.300003</td>\n",
       "    </tr>\n",
       "    <tr>\n",
       "      <th>3</th>\n",
       "      <td>18.400000</td>\n",
       "      <td>84.300003</td>\n",
       "    </tr>\n",
       "    <tr>\n",
       "      <th>4</th>\n",
       "      <td>17.100000</td>\n",
       "      <td>80.599998</td>\n",
       "    </tr>\n",
       "  </tbody>\n",
       "</table>\n",
       "</div>"
      ],
      "text/plain": [
       "    crickets       temp\n",
       "0  20.000000  88.599998\n",
       "1  16.000000  71.599998\n",
       "2  19.799999  93.300003\n",
       "3  18.400000  84.300003\n",
       "4  17.100000  80.599998"
      ]
     },
     "execution_count": 4,
     "metadata": {},
     "output_type": "execute_result"
    }
   ],
   "source": [
    "wd = '../../data/'\n",
    "crickets = pd.read_csv(wd + 'crickets.csv')\n",
    "# pd.read_csv('../../crickets_temp.csv')\n",
    "crickets.head()"
   ]
  },
  {
   "cell_type": "code",
   "execution_count": 11,
   "metadata": {
    "collapsed": false
   },
   "outputs": [
    {
     "data": {
      "text/plain": [
       "0.69746514501673995"
      ]
     },
     "execution_count": 11,
     "metadata": {},
     "output_type": "execute_result"
    }
   ],
   "source": [
    "## biased fit\n",
    "lm = linear_model.LinearRegression()\n",
    "lm.fit(crickets[['crickets']], crickets['temp'])\n",
    "lm.score(crickets[['crickets']], crickets['temp'])"
   ]
  },
  {
   "cell_type": "markdown",
   "metadata": {},
   "source": [
    "### Manual R-Squared Calc"
   ]
  },
  {
   "cell_type": "code",
   "execution_count": 20,
   "metadata": {
    "collapsed": false
   },
   "outputs": [
    {
     "name": "stdout",
     "output_type": "stream",
     "text": [
      "R-squared: 0.697465145017\n",
      "R-squared: 0.697465145017\n"
     ]
    }
   ],
   "source": [
    "mean_temp = crickets['temp'].mean()\n",
    "y_diff = crickets['temp'] - mean_temp\n",
    "y_diff_squared = y_diff**2\n",
    "total_var = sum(y_diff_squared)\n",
    "\n",
    "predictions = lm.predict(crickets[['crickets']])\n",
    "pred_diff = crickets['temp'] - predictions\n",
    "pred_diff_squared = pred_diff ** 2\n",
    "unexplained_var = sum(pred_diff_squared)\n",
    "\n",
    "print \"R-squared: \" + str(1 - unexplained_var / total_var)\n",
    "\n",
    "predictions = lm.predict(crickets[['crickets']])\n",
    "pred_diff = mean_temp - predictions\n",
    "pred_diff_squared = pred_diff ** 2\n",
    "explained_var = sum(pred_diff_squared)\n",
    "\n",
    "print \"R-squared: \" + str(explained_var / total_var)"
   ]
  },
  {
   "cell_type": "markdown",
   "metadata": {},
   "source": [
    "### Exercise: (20 minutes)"
   ]
  },
  {
   "cell_type": "markdown",
   "metadata": {},
   "source": [
    "Another common metric (closely related to R squared) to see how good a regression is is the \"mean squared error\". Starting from this piece of documentation, calculate mean squared error for this model, both using SKLearn, and manually similar to the method above.\n",
    "\n",
    "http://scikit-learn.org/stable/modules/generated/sklearn.metrics.mean_squared_error.html"
   ]
  },
  {
   "cell_type": "markdown",
   "metadata": {},
   "source": [
    "# Cross validation"
   ]
  },
  {
   "cell_type": "markdown",
   "metadata": {},
   "source": [
    "We covered last week how cross validation can prevent overfitting. \n",
    "\n",
    "Here's a great illustration of overfitting: http://scikit-learn.org/stable/auto_examples/model_selection/plot_underfitting_overfitting.html"
   ]
  },
  {
   "cell_type": "markdown",
   "metadata": {},
   "source": [
    "Here's a visual reminder of what cross validation is:"
   ]
  },
  {
   "cell_type": "markdown",
   "metadata": {},
   "source": [
    "<img src='http://blog-test.goldenhelix.com/wp-content/uploads/2015/04/B-fig-1.jpg'>"
   ]
  },
  {
   "cell_type": "code",
   "execution_count": 86,
   "metadata": {
    "collapsed": false
   },
   "outputs": [],
   "source": [
    "from sklearn import cross_validation\n",
    "wd = '../../'\n",
    "basketball = pd.read_csv(wd + 'basketball.csv')"
   ]
  },
  {
   "cell_type": "code",
   "execution_count": 101,
   "metadata": {
    "collapsed": false
   },
   "outputs": [
    {
     "data": {
      "text/html": [
       "<div>\n",
       "<table border=\"1\" class=\"dataframe\">\n",
       "  <thead>\n",
       "    <tr style=\"text-align: right;\">\n",
       "      <th></th>\n",
       "      <th>height</th>\n",
       "      <th>weight</th>\n",
       "      <th>pct_fg</th>\n",
       "      <th>pct_ft</th>\n",
       "      <th>ppg</th>\n",
       "    </tr>\n",
       "  </thead>\n",
       "  <tbody>\n",
       "    <tr>\n",
       "      <th>0</th>\n",
       "      <td>6.8</td>\n",
       "      <td>225</td>\n",
       "      <td>0.442</td>\n",
       "      <td>0.672</td>\n",
       "      <td>9.2</td>\n",
       "    </tr>\n",
       "    <tr>\n",
       "      <th>1</th>\n",
       "      <td>6.3</td>\n",
       "      <td>180</td>\n",
       "      <td>0.435</td>\n",
       "      <td>0.797</td>\n",
       "      <td>11.7</td>\n",
       "    </tr>\n",
       "    <tr>\n",
       "      <th>2</th>\n",
       "      <td>6.4</td>\n",
       "      <td>190</td>\n",
       "      <td>0.456</td>\n",
       "      <td>0.761</td>\n",
       "      <td>15.8</td>\n",
       "    </tr>\n",
       "    <tr>\n",
       "      <th>3</th>\n",
       "      <td>6.2</td>\n",
       "      <td>180</td>\n",
       "      <td>0.416</td>\n",
       "      <td>0.651</td>\n",
       "      <td>8.6</td>\n",
       "    </tr>\n",
       "    <tr>\n",
       "      <th>4</th>\n",
       "      <td>6.9</td>\n",
       "      <td>205</td>\n",
       "      <td>0.449</td>\n",
       "      <td>0.900</td>\n",
       "      <td>23.2</td>\n",
       "    </tr>\n",
       "  </tbody>\n",
       "</table>\n",
       "</div>"
      ],
      "text/plain": [
       "   height  weight  pct_fg  pct_ft   ppg\n",
       "0     6.8     225   0.442   0.672   9.2\n",
       "1     6.3     180   0.435   0.797  11.7\n",
       "2     6.4     190   0.456   0.761  15.8\n",
       "3     6.2     180   0.416   0.651   8.6\n",
       "4     6.9     205   0.449   0.900  23.2"
      ]
     },
     "execution_count": 101,
     "metadata": {},
     "output_type": "execute_result"
    }
   ],
   "source": [
    "basketball.head()"
   ]
  },
  {
   "cell_type": "markdown",
   "metadata": {},
   "source": [
    "### Splitting the data up into \"X\" and \"Y\""
   ]
  },
  {
   "cell_type": "code",
   "execution_count": 97,
   "metadata": {
    "collapsed": false
   },
   "outputs": [],
   "source": [
    "basketball_x = basketball.loc[:,['height', 'weight', 'pct_fg', 'pct_ft']]\n",
    "basketball_y = basketball.loc[:,['ppg']]"
   ]
  },
  {
   "cell_type": "markdown",
   "metadata": {},
   "source": [
    "#### 5 fold cross validation on this dataset"
   ]
  },
  {
   "cell_type": "code",
   "execution_count": 98,
   "metadata": {
    "collapsed": false
   },
   "outputs": [],
   "source": [
    "kf = cross_validation.KFold(len(basketball), n_folds=5, shuffle=True)"
   ]
  },
  {
   "cell_type": "code",
   "execution_count": 99,
   "metadata": {
    "collapsed": false
   },
   "outputs": [
    {
     "name": "stdout",
     "output_type": "stream",
     "text": [
      "~~~~ CROSS VALIDATION each fold ~~~~\n",
      "Model 1\n",
      "MSE: 24.5232584242\n",
      "R2: 0.208779911271\n",
      "Model 2\n",
      "MSE: 38.7558686392\n",
      "R2: 0.209789739752\n",
      "Model 3\n",
      "MSE: 17.9042297378\n",
      "R2: 0.217300520445\n",
      "Model 4\n",
      "MSE: 17.7095576305\n",
      "R2: 0.215736068621\n",
      "Model 5\n",
      "MSE: 71.0103368288\n",
      "R2: 0.1265166885\n",
      "~~~~ SUMMARY OF CROSS VALIDATION ~~~~\n",
      "Mean of MSE for all folds: 33.9806502521\n",
      "Mean of R2 for all folds: 0.195624585718\n"
     ]
    }
   ],
   "source": [
    "mse_values = []\n",
    "scores = []\n",
    "n= 0\n",
    "print \"~~~~ CROSS VALIDATION each fold ~~~~\"\n",
    "for train_index, test_index in kf:\n",
    "    lm = linear_model.LinearRegression().fit(basketball_x.iloc[train_index], basketball_y.iloc[train_index])\n",
    "    mse_values.append(metrics.mean_squared_error(basketball_y.iloc[test_index], lm.predict(basketball_x.iloc[test_index])))\n",
    "    scores.append(lm.score(basketball_x, basketball_y))\n",
    "    n+=1\n",
    "    print 'Model', n\n",
    "    print 'MSE:', mse_values[n-1]\n",
    "    print 'R2:', scores[n-1]\n",
    "\n",
    "\n",
    "print \"~~~~ SUMMARY OF CROSS VALIDATION ~~~~\"\n",
    "print 'Mean of MSE for all folds:', np.mean(mse_values)\n",
    "print 'Mean of R2 for all folds:', np.mean(scores)"
   ]
  },
  {
   "cell_type": "code",
   "execution_count": 100,
   "metadata": {
    "collapsed": false
   },
   "outputs": [
    {
     "name": "stdout",
     "output_type": "stream",
     "text": [
      "~~~~ Single Model ~~~~\n",
      "MSE of single model: 26.5654032851\n",
      "R2:  0.2222506313\n"
     ]
    }
   ],
   "source": [
    "lm = linear_model.LinearRegression().fit(basketball_x, basketball_y)\n",
    "print \"~~~~ Single Model ~~~~\"\n",
    "print 'MSE of single model:', metrics.mean_squared_error(basketball_y, lm.predict(basketball_x))\n",
    "print 'R2: ', lm.score(basketball_x, basketball_y)"
   ]
  },
  {
   "cell_type": "markdown",
   "metadata": {},
   "source": [
    "## Can we make this model better? (15 minutes)"
   ]
  },
  {
   "cell_type": "markdown",
   "metadata": {},
   "source": [
    "**Exercise:** Try taking out features, and running the data through the same code as above, and seeing if you can identify any features that are not in fact adding to the likely accuracy of the model on _outside_ data."
   ]
  },
  {
   "cell_type": "markdown",
   "metadata": {},
   "source": [
    "# Regularization"
   ]
  },
  {
   "cell_type": "markdown",
   "metadata": {},
   "source": [
    "You just \"built\" several different models - functions that take in data of a particular form and then output predictions about that data - by selecting different variables.\n",
    "\n",
    "Now, we're going to talk about another way to \"build different models\" in the context of linear regression - regularization."
   ]
  },
  {
   "cell_type": "markdown",
   "metadata": {},
   "source": [
    "## Motivation"
   ]
  },
  {
   "cell_type": "markdown",
   "metadata": {},
   "source": [
    "When you have many dependent variables, or predictors, trying to predict some outcome, a sign that these variables are overfitting is if the coefficients get extremely big. Regularization makes your model have a \"penalty\" for having large coefficients."
   ]
  },
  {
   "cell_type": "markdown",
   "metadata": {},
   "source": [
    "## Mathematics"
   ]
  },
  {
   "cell_type": "markdown",
   "metadata": {},
   "source": [
    "Recall that when we form a linear model, we select the model that minimizes the squared error. For a model of the form\n",
    "$$y_i = f(x_i) + e_i$$\n",
    "we minimize the sum\n",
    "$$\\sum_{i}{\\left(\\hat{y}_i - y_i \\right)^2}$$\n",
    "This is an example of a _loss function_, a function that measures the cost of inaccurate model predictions. To apply the technique of regularization, we modify the loss function with a term that penalizes more complex models. For example, we could use a loss function of the form:\n",
    "$$\\sum_{i}{\\left(\\hat{y}_i - y_i \\right)^2 + \\alpha \\theta_i ^2}$$\n",
    "\n",
    "or "
   ]
  },
  {
   "cell_type": "markdown",
   "metadata": {},
   "source": [
    "The \"alpha\" term in there represents the \"amount of regularization\" we apply to our model. The higher alpha, the more we want to \"penalize\" our model for having large coefficients."
   ]
  },
  {
   "cell_type": "markdown",
   "metadata": {},
   "source": [
    "## \"Lasso\" and \"Ridge\" regression"
   ]
  },
  {
   "cell_type": "markdown",
   "metadata": {},
   "source": [
    "Lasso regression applies what is called \"L1\" regularization to the model parameters, minimizing the cost function:\n",
    "\n",
    "$$\\sum_{i}{\\left(\\hat{y}_i - y_i \\right)^2 + \\alpha |\\theta_i|}$$\n",
    "\n",
    "By contrast, \"Ridge\" regression applies an \"L2\" regularization to the model parameters, minimizing the cost function:\n",
    "\n",
    "$$\\sum_{i}{\\left(\\hat{y}_i - y_i \\right)^2 + \\alpha \\theta_i ^2}$$"
   ]
  },
  {
   "cell_type": "markdown",
   "metadata": {},
   "source": [
    "## Boston dataset example"
   ]
  },
  {
   "cell_type": "code",
   "execution_count": 111,
   "metadata": {
    "collapsed": false
   },
   "outputs": [
    {
     "data": {
      "image/png": "[encoded data removed]",
      "text/plain": [
       "<matplotlib.figure.Figure at 0x10d0c96d0>"
      ]
     },
     "metadata": {},
     "output_type": "display_data"
    },
    {
     "name": "stdout",
     "output_type": "stream",
     "text": [
      "r^2: 0.740607742865\n"
     ]
    }
   ],
   "source": [
    "# Work through the cross-validation example, adding in r^2 calculations.\n",
    "# Does cross-validation produce a better fit in this case? Why or why not?\n",
    "\n",
    "import pandas as pd\n",
    "\n",
    "# Without CV\n",
    "\n",
    "from sklearn import datasets\n",
    "from sklearn.cross_validation import cross_val_predict, cross_val_score\n",
    "from sklearn import linear_model\n",
    "import matplotlib.pyplot as plt\n",
    "\n",
    "boston = datasets.load_boston()\n",
    "X = boston.data\n",
    "y = boston.target\n",
    "\n",
    "lr = linear_model.LinearRegression()\n",
    "lr.fit(boston.data, y)\n",
    "predicted_nocv = lr.predict(boston.data)\n",
    "\n",
    "fig, ax = plt.subplots()\n",
    "ax.scatter(y, predicted)\n",
    "ax.plot([y.min(), y.max()], [y.min(), y.max()], 'k--', lw=4)\n",
    "ax.set_xlabel('Measured')\n",
    "ax.set_ylabel('Predicted')\n",
    "plt.show()\n",
    "print \"r^2:\", lr.score(X, y)"
   ]
  },
  {
   "cell_type": "markdown",
   "metadata": {},
   "source": [
    "### R^2 with cross validation"
   ]
  },
  {
   "cell_type": "code",
   "execution_count": 128,
   "metadata": {
    "collapsed": false
   },
   "outputs": [
    {
     "name": "stdout",
     "output_type": "stream",
     "text": [
      "~~~~ CROSS VALIDATION each fold ~~~~\n",
      "Model 1\n",
      "MSE: 27.2538538619\n",
      "R2: 0.738523814123\n",
      "Model 2\n",
      "MSE: 24.2390206117\n",
      "R2: 0.737416430577\n",
      "Model 3\n",
      "MSE: 17.8125186221\n",
      "R2: 0.739599132215\n",
      "Model 4\n",
      "MSE: 27.751615847\n",
      "R2: 0.735334003474\n",
      "Model 5\n",
      "MSE: 22.5681704186\n",
      "R2: 0.738431392717\n",
      "~~~~ SUMMARY OF CROSS VALIDATION ~~~~\n",
      "Mean of MSE for all folds: 23.9250358723\n",
      "Mean of R2 for all folds: 0.737860954621\n"
     ]
    }
   ],
   "source": [
    "# With CV\n",
    "\n",
    "lm = linear_model.LinearRegression()\n",
    "\n",
    "X = pd.DataFrame(boston.data)\n",
    "y = pd.DataFrame(boston.target)\n",
    "kf = cross_validation.KFold(len(boston.target), n_folds=5, shuffle=True)\n",
    "mse_values = []\n",
    "scores = []\n",
    "n= 0\n",
    "print \"~~~~ CROSS VALIDATION each fold ~~~~\"\n",
    "for train_index, test_index in kf:\n",
    "    lm.fit(X.iloc[train_index], y.iloc[train_index])\n",
    "    mse_values.append(metrics.mean_squared_error(y.iloc[test_index], lm.predict(X.iloc[test_index])))\n",
    "    scores.append(lm.score(X, y))\n",
    "    n+=1\n",
    "    print 'Model', n\n",
    "    print 'MSE:', mse_values[n-1]\n",
    "    print 'R2:', scores[n-1]\n",
    "\n",
    "\n",
    "print \"~~~~ SUMMARY OF CROSS VALIDATION ~~~~\"\n",
    "print 'Mean of MSE for all folds:', np.mean(mse_values)\n",
    "print 'Mean of R2 for all folds:', np.mean(scores)"
   ]
  },
  {
   "cell_type": "markdown",
   "metadata": {},
   "source": [
    "**Explanation:** Linear regression is slightly overfitting."
   ]
  },
  {
   "cell_type": "code",
   "execution_count": 130,
   "metadata": {
    "collapsed": false
   },
   "outputs": [
    {
     "name": "stdout",
     "output_type": "stream",
     "text": [
      "~~~~ CROSS VALIDATION each fold ~~~~\n",
      "Model 1\n",
      "MSE: 13.482853453\n",
      "R2: 0.739660534599\n",
      "Model 2\n",
      "MSE: 29.2771676006\n",
      "R2: 0.739619440641\n",
      "Model 3\n",
      "MSE: 29.3798357547\n",
      "R2: 0.735053817495\n",
      "Model 4\n",
      "MSE: 30.6718149138\n",
      "R2: 0.737343022729\n",
      "Model 5\n",
      "MSE: 15.653857285\n",
      "R2: 0.739057421448\n",
      "~~~~ SUMMARY OF CROSS VALIDATION ~~~~\n",
      "Mean of MSE for all folds: 23.6931058014\n",
      "Mean of R2 for all folds: 0.738146847382\n"
     ]
    }
   ],
   "source": [
    "# With CV\n",
    "\n",
    "lr = linear_model.Ridge()\n",
    "predicted_cv = cross_val_predict(lr, X, y, cv=5)\n",
    "\n",
    "X = pd.DataFrame(boston.data)\n",
    "y = pd.DataFrame(boston.target)\n",
    "kf = cross_validation.KFold(len(boston.target), n_folds=5, shuffle=True)\n",
    "mse_values = []\n",
    "scores = []\n",
    "n= 0\n",
    "print \"~~~~ CROSS VALIDATION each fold ~~~~\"\n",
    "for train_index, test_index in kf:\n",
    "    lm = linear_model.LinearRegression().fit(X.iloc[train_index], y.iloc[train_index])\n",
    "    mse_values.append(metrics.mean_squared_error(y.iloc[test_index], lm.predict(X.iloc[test_index])))\n",
    "    scores.append(lm.score(X, y))\n",
    "    n+=1\n",
    "    print 'Model', n\n",
    "    print 'MSE:', mse_values[n-1]\n",
    "    print 'R2:', scores[n-1]\n",
    "\n",
    "\n",
    "print \"~~~~ SUMMARY OF CROSS VALIDATION ~~~~\"\n",
    "print 'Mean of MSE for all folds:', np.mean(mse_values)\n",
    "print 'Mean of R2 for all folds:', np.mean(scores)"
   ]
  },
  {
   "cell_type": "markdown",
   "metadata": {},
   "source": [
    "### Ridge regression example of tuning alpha parameter"
   ]
  },
  {
   "cell_type": "code",
   "execution_count": 131,
   "metadata": {
    "collapsed": false
   },
   "outputs": [
    {
     "name": "stdout",
     "output_type": "stream",
     "text": [
      "~~~~ CROSS VALIDATION each fold ~~~~\n",
      "Model 1\n",
      "MSE: 26.7955394241\n",
      "R2: 0.737273437192\n",
      "Model 2\n",
      "MSE: 20.534794448\n",
      "R2: 0.738731387787\n",
      "Model 3\n",
      "MSE: 24.6809583127\n",
      "R2: 0.736302631752\n",
      "Model 4\n",
      "MSE: 21.0268268153\n",
      "R2: 0.739345478453\n",
      "Model 5\n",
      "MSE: 27.3538147957\n",
      "R2: 0.736516380291\n",
      "~~~~ SUMMARY OF CROSS VALIDATION ~~~~\n",
      "Mean of MSE for all folds: 24.0783867592\n",
      "Mean of R2 for all folds: 0.737633863095\n"
     ]
    }
   ],
   "source": [
    "# Note the \"alpha = 0.5\" method in \n",
    "\n",
    "# http://scikit-learn.org/stable/modules/generated/sklearn.linear_model.Ridge.html#sklearn.linear_model.Ridge\n",
    "\n",
    "lr = linear_model.Ridge()\n",
    "predicted_cv = cross_val_predict(lr, X, y, cv=5)\n",
    "\n",
    "X = pd.DataFrame(boston.data)\n",
    "y = pd.DataFrame(boston.target)\n",
    "kf = cross_validation.KFold(len(boston.target), n_folds=5, shuffle=True)\n",
    "mse_values = []\n",
    "scores = []\n",
    "n= 0\n",
    "print \"~~~~ CROSS VALIDATION each fold ~~~~\"\n",
    "for train_index, test_index in kf:\n",
    "    lm = linear_model.LinearRegression().fit(X.iloc[train_index], y.iloc[train_index])\n",
    "    mse_values.append(metrics.mean_squared_error(y.iloc[test_index], lm.predict(X.iloc[test_index])))\n",
    "    scores.append(lm.score(X, y))\n",
    "    n+=1\n",
    "    print 'Model', n\n",
    "    print 'MSE:', mse_values[n-1]\n",
    "    print 'R2:', scores[n-1]\n",
    "\n",
    "\n",
    "print \"~~~~ SUMMARY OF CROSS VALIDATION ~~~~\"\n",
    "print 'Mean of MSE for all folds:', np.mean(mse_values)\n",
    "print 'Mean of R2 for all folds:', np.mean(scores)"
   ]
  },
  {
   "cell_type": "markdown",
   "metadata": {},
   "source": [
    "### Exercise (20 minutes): Make a plot of the different cross validated scores of this model against different values of alpha to find the optimal alpha  "
   ]
  },
  {
   "cell_type": "markdown",
   "metadata": {},
   "source": [
    "http://scikit-learn.org/stable/modules/generated/sklearn.linear_model.Ridge.html#sklearn.linear_model.Ridge"
   ]
  },
  {
   "cell_type": "markdown",
   "metadata": {},
   "source": [
    "#### To get you started:"
   ]
  },
  {
   "cell_type": "code",
   "execution_count": 134,
   "metadata": {
    "collapsed": false
   },
   "outputs": [
    {
     "name": "stdout",
     "output_type": "stream",
     "text": [
      "Alpha: 1e-10\n",
      "[[ -1.07170557e-01   4.63952195e-02   2.08602395e-02   2.68856140e+00\n",
      "   -1.77957587e+01   3.80475246e+00   7.51061702e-04  -1.47575880e+00\n",
      "    3.05655038e-01  -1.23293463e-02  -9.53463555e-01   9.39251272e-03\n",
      "   -5.25466633e-01]]\n",
      "21.8977792177\n",
      "Alpha: 1e-09\n",
      "[[ -1.07170557e-01   4.63952195e-02   2.08602395e-02   2.68856140e+00\n",
      "   -1.77957586e+01   3.80475246e+00   7.51061693e-04  -1.47575880e+00\n",
      "    3.05655038e-01  -1.23293463e-02  -9.53463555e-01   9.39251272e-03\n",
      "   -5.25466633e-01]]\n",
      "21.8977792177\n",
      "Alpha: 1e-08\n",
      "[[ -1.07170557e-01   4.63952195e-02   2.08602390e-02   2.68856140e+00\n",
      "   -1.77957585e+01   3.80475246e+00   7.51061601e-04  -1.47575879e+00\n",
      "    3.05655038e-01  -1.23293463e-02  -9.53463553e-01   9.39251273e-03\n",
      "   -5.25466633e-01]]\n",
      "21.8977792177\n",
      "Alpha: 1e-07\n",
      "[[ -1.07170556e-01   4.63952197e-02   2.08602347e-02   2.68856138e+00\n",
      "   -1.77957575e+01   3.80475247e+00   7.51060676e-04  -1.47575878e+00\n",
      "    3.05655036e-01  -1.23293464e-02  -9.53463542e-01   9.39251278e-03\n",
      "   -5.25466634e-01]]\n",
      "21.8977792177\n",
      "Alpha: 1e-06\n",
      "[[ -1.07170551e-01   4.63952211e-02   2.08601909e-02   2.68856123e+00\n",
      "   -1.77957471e+01   3.80475255e+00   7.51051427e-04  -1.47575863e+00\n",
      "    3.05655011e-01  -1.23293472e-02  -9.53463427e-01   9.39251332e-03\n",
      "   -5.25466646e-01]]\n",
      "21.8977792177\n",
      "Alpha: 1e-05\n",
      "[[ -1.07170497e-01   4.63952355e-02   2.08597531e-02   2.68855967e+00\n",
      "   -1.77956432e+01   3.80475338e+00   7.50958940e-04  -1.47575709e+00\n",
      "    3.05654766e-01  -1.23293554e-02  -9.53462274e-01   9.39251872e-03\n",
      "   -5.25466760e-01]]\n",
      "21.8977792177\n",
      "Alpha: 0.0001\n",
      "[[ -1.07169961e-01   4.63953791e-02   2.08553750e-02   2.68854410e+00\n",
      "   -1.77946044e+01   3.80476161e+00   7.50034136e-04  -1.47574177e+00\n",
      "    3.05652315e-01  -1.23294376e-02  -9.53450747e-01   9.39257272e-03\n",
      "   -5.25467908e-01]]\n",
      "21.8977792218\n",
      "Alpha: 0.001\n",
      "[[ -1.07164601e-01   4.63968140e-02   2.08116230e-02   2.68838849e+00\n",
      "   -1.77842227e+01   3.80484392e+00   7.40792197e-04  -1.47558867e+00\n",
      "    3.05627819e-01  -1.23302588e-02  -9.53335558e-01   9.39311232e-03\n",
      "   -5.25479380e-01]]\n",
      "21.8977796241\n",
      "Alpha: 0.01\n",
      "[[ -1.07111354e-01   4.64110791e-02   2.03769094e-02   2.68683789e+00\n",
      "   -1.76810676e+01   3.80566015e+00   6.48979296e-04  -1.47406740e+00\n",
      "    3.05384503e-01  -1.23384218e-02  -9.52191142e-01   9.39847353e-03\n",
      "   -5.25593490e-01]]\n",
      "21.8978193911\n",
      "Alpha: 0.1\n",
      "[[ -1.06611925e-01   4.65458459e-02   1.62933780e-02   2.67184923e+00\n",
      "   -1.67117124e+01   3.81317732e+00  -2.12192713e-04  -1.45977310e+00\n",
      "    3.03105310e-01  -1.24154673e-02  -9.41449131e-01   9.44881364e-03\n",
      "   -5.26677896e-01]]\n",
      "21.9013688822\n",
      "Alpha: 1.0\n",
      "[[ -1.03621516e-01   4.74143761e-02  -8.54660332e-03   2.55422124e+00\n",
      "   -1.07934364e+01   3.84925574e+00  -5.36782076e-03  -1.37257042e+00\n",
      "    2.89649799e-01  -1.29071544e-02  -8.76632534e-01   9.75351853e-03\n",
      "   -5.34072106e-01]]\n",
      "22.0478977951\n",
      "Alpha: 10.0\n",
      "[[-0.10035215  0.0495466  -0.04274506  1.95345156 -2.37495926  3.69813184\n",
      "  -0.01067442 -1.24845527  0.27901554 -0.0139895  -0.79833533  0.0101167\n",
      "  -0.56009659]]\n",
      "22.6655141002\n",
      "Alpha: 100.0\n",
      "[[ -1.01450936e-01   5.44699537e-02  -5.26256598e-02   6.38646746e-01\n",
      "   -2.63245228e-01   2.33196570e+00   1.23017728e-03  -1.15315697e+00\n",
      "    3.14915369e-01  -1.58522970e-02  -8.29503368e-01   9.47147447e-03\n",
      "   -6.61312062e-01]]\n",
      "23.8221486889\n",
      "Alpha: 1000.0\n",
      "[[-0.09054553  0.05436281 -0.03619007  0.10146478 -0.01603828  0.56808432\n",
      "   0.03057488 -0.61261412  0.31055177 -0.01659887 -0.65916614  0.00805736\n",
      "  -0.76396246]]\n",
      "27.675317375\n",
      "Alpha: 10000.0\n",
      "[[ -7.26354525e-02   5.74064380e-02  -4.84710194e-02   1.53739489e-02\n",
      "   -2.43723545e-04   1.03715072e-01   2.55462878e-02  -1.16822875e-01\n",
      "    1.35370335e-01  -1.34591940e-02  -1.78967935e-01   9.07724899e-03\n",
      "   -5.19709823e-01]]\n",
      "36.7311008026\n",
      "Alpha: 100000.0\n",
      "[[-0.02705802  0.05071688 -0.02005335  0.00191238 -0.0001229   0.0156053\n",
      "  -0.01555739 -0.01136235  0.01995633 -0.01562371 -0.02479733  0.01293454\n",
      "  -0.1161158 ]]\n",
      "53.5447690249\n",
      "Alpha: 1000000.0\n",
      "[[ -4.23012469e-03   1.70648306e-02  -4.16284080e-03   1.90138139e-04\n",
      "   -4.73720184e-05   1.78279997e-03  -1.23904981e-02  -3.69091994e-04\n",
      "    1.17729818e-03  -1.88656538e-02  -2.93959833e-03   1.27239131e-02\n",
      "   -1.48487027e-02]]\n",
      "61.2585977318\n",
      "Alpha: 10000000.0\n",
      "[[ -8.29988968e-04   2.77287605e-03  -8.47995476e-04   1.93515584e-05\n",
      "   -1.19050390e-05   1.98142103e-04  -2.82675649e-03   8.06975905e-05\n",
      "   -4.59154523e-04  -1.38742787e-02  -3.74982968e-04   6.45369519e-03\n",
      "   -1.87503929e-03]]\n",
      "66.8672548997\n",
      "Alpha: 100000000.0\n",
      "[[ -1.38383465e-04   3.66277884e-04  -1.38867827e-04   2.03778160e-06\n",
      "   -2.05651989e-06   2.20609368e-05  -4.47185432e-04   2.08742399e-05\n",
      "   -1.30268142e-04  -3.16071024e-03  -4.80594061e-05   1.24967371e-03\n",
      "   -2.32180467e-04]]\n",
      "79.3120208723\n",
      "Alpha: 1000000000.0\n",
      "[[ -1.52272234e-05   3.87701778e-05  -1.52393920e-05   2.06412995e-07\n",
      "   -2.27216586e-07   2.26201495e-06  -4.87640273e-05   2.40375957e-06\n",
      "   -1.51594075e-05  -3.60986767e-04  -5.07174062e-06   1.39533884e-04\n",
      "   -2.43241799e-05]]\n",
      "83.8022407918\n",
      "Alpha: 10000000000.0\n",
      "[[ -1.53874399e-06   3.90163917e-06  -1.53954108e-06   2.06717422e-08\n",
      "   -2.29702759e-08   2.26846266e-07  -4.92298948e-06   2.44020370e-07\n",
      "   -1.54056339e-06  -3.66173779e-05  -5.10241986e-07   1.41206252e-05\n",
      "   -2.44516276e-06]]\n",
      "84.356537364\n"
     ]
    }
   ],
   "source": [
    "alphas = np.logspace(-10, 10, 21)\n",
    "for a in alphas:\n",
    "    print 'Alpha:', a\n",
    "    lm = linear_model.Ridge(alpha=a)\n",
    "    lm.fit(X, y)\n",
    "    print lm.coef_\n",
    "    print metrics.mean_squared_error(y, lm.predict(X))"
   ]
  },
  {
   "cell_type": "markdown",
   "metadata": {},
   "source": [
    "### Or we can use grid search to make this faster"
   ]
  },
  {
   "cell_type": "code",
   "execution_count": 15,
   "metadata": {
    "collapsed": false
   },
   "outputs": [
    {
     "data": {
      "text/plain": [
       "GridSearchCV(cv=None, error_score='raise',\n",
       "       estimator=Ridge(alpha=1.0, copy_X=True, fit_intercept=True, max_iter=None,\n",
       "   normalize=False, random_state=None, solver='auto', tol=0.001),\n",
       "       fit_params={}, iid=True, n_jobs=1,\n",
       "       param_grid={'alpha': array([  1.00000e-10,   1.00000e-09,   1.00000e-08,   1.00000e-07,\n",
       "         1.00000e-06,   1.00000e-05,   1.00000e-04,   1.00000e-03,\n",
       "         1.00000e-02,   1.00000e-01,   1.00000e+00,   1.00000e+01,\n",
       "         1.00000e+02,   1.00000e+03,   1.00000e+04,   1.00000e+05,\n",
       "         1.00000e+06,   1.00000e+07,   1.00000e+08,   1.00000e+09,\n",
       "         1.00000e+10])},\n",
       "       pre_dispatch='2*n_jobs', refit=True, scoring='mean_squared_error',\n",
       "       verbose=0)"
      ]
     },
     "execution_count": 15,
     "metadata": {},
     "output_type": "execute_result"
    }
   ],
   "source": [
    "from sklearn import grid_search\n",
    "\n",
    "alphas = np.logspace(-10, 10, 21)\n",
    "gs = grid_search.GridSearchCV(\n",
    "    estimator=linear_model.Ridge(),\n",
    "    param_grid={'alpha': alphas},\n",
    "    scoring='mean_squared_error')\n",
    "\n",
    "gs.fit(modeldata, y)\n"
   ]
  },
  {
   "cell_type": "markdown",
   "metadata": {},
   "source": [
    "##### Best score "
   ]
  },
  {
   "cell_type": "code",
   "execution_count": 16,
   "metadata": {
    "collapsed": false
   },
   "outputs": [
    {
     "name": "stdout",
     "output_type": "stream",
     "text": [
      "-1814.09369133\n"
     ]
    }
   ],
   "source": [
    "print gs.best_score_ "
   ]
  },
  {
   "cell_type": "markdown",
   "metadata": {},
   "source": [
    "##### mean squared error here comes in negative, so let's make it positive."
   ]
  },
  {
   "cell_type": "code",
   "execution_count": 17,
   "metadata": {
    "collapsed": false
   },
   "outputs": [
    {
     "name": "stdout",
     "output_type": "stream",
     "text": [
      "1814.09369133\n"
     ]
    }
   ],
   "source": [
    "print -gs.best_score_ "
   ]
  },
  {
   "cell_type": "markdown",
   "metadata": {},
   "source": [
    "##### explains which grid_search setup worked best"
   ]
  },
  {
   "cell_type": "code",
   "execution_count": 18,
   "metadata": {
    "collapsed": false
   },
   "outputs": [
    {
     "name": "stdout",
     "output_type": "stream",
     "text": [
      "Ridge(alpha=10.0, copy_X=True, fit_intercept=True, max_iter=None,\n",
      "   normalize=False, random_state=None, solver='auto', tol=0.001)\n"
     ]
    }
   ],
   "source": [
    "print gs.best_estimator_ "
   ]
  },
  {
   "cell_type": "markdown",
   "metadata": {},
   "source": [
    "##### shows all the grid pairings and their performances."
   ]
  },
  {
   "cell_type": "code",
   "execution_count": 83,
   "metadata": {
    "collapsed": false
   },
   "outputs": [
    {
     "name": "stdout",
     "output_type": "stream",
     "text": [
      "[mean: -1817.58711, std: 542.14315, params: {'alpha': 1e-10}, mean: -1817.58711, std: 542.14315, params: {'alpha': 1.0000000000000001e-09}, mean: -1817.58711, std: 542.14315, params: {'alpha': 1e-08}, mean: -1817.58711, std: 542.14315, params: {'alpha': 9.9999999999999995e-08}, mean: -1817.58711, std: 542.14315, params: {'alpha': 9.9999999999999995e-07}, mean: -1817.58711, std: 542.14317, params: {'alpha': 1.0000000000000001e-05}, mean: -1817.58707, std: 542.14331, params: {'alpha': 0.0001}, mean: -1817.58663, std: 542.14477, params: {'alpha': 0.001}, mean: -1817.58230, std: 542.15933, params: {'alpha': 0.01}, mean: -1817.54318, std: 542.30102, params: {'alpha': 0.10000000000000001}, mean: -1817.20111, std: 543.63587, params: {'alpha': 1.0}, mean: -1814.09369, std: 556.35563, params: {'alpha': 10.0}, mean: -1818.51694, std: 653.68607, params: {'alpha': 100.0}, mean: -2125.58777, std: 872.45270, params: {'alpha': 1000.0}, mean: -2458.08836, std: 951.30428, params: {'alpha': 10000.0}, mean: -2532.21151, std: 962.80083, params: {'alpha': 100000.0}, mean: -2541.38479, std: 963.98339, params: {'alpha': 1000000.0}, mean: -2542.32833, std: 964.10141, params: {'alpha': 10000000.0}, mean: -2542.42296, std: 964.11321, params: {'alpha': 100000000.0}, mean: -2542.43242, std: 964.11439, params: {'alpha': 1000000000.0}, mean: -2542.43337, std: 964.11450, params: {'alpha': 10000000000.0}]\n"
     ]
    }
   ],
   "source": [
    "print gs.grid_scores_ "
   ]
  },
  {
   "cell_type": "markdown",
   "metadata": {},
   "source": [
    "## Mini-Project (rest of class / first 30-60 minutes of next class)"
   ]
  },
  {
   "cell_type": "code",
   "execution_count": 150,
   "metadata": {
    "collapsed": false
   },
   "outputs": [
    {
     "data": {
      "text/html": [
       "<div>\n",
       "<table border=\"1\" class=\"dataframe\">\n",
       "  <thead>\n",
       "    <tr style=\"text-align: right;\">\n",
       "      <th></th>\n",
       "      <th>sx</th>\n",
       "      <th>rk</th>\n",
       "      <th>yr</th>\n",
       "      <th>dg</th>\n",
       "      <th>yd</th>\n",
       "      <th>sl</th>\n",
       "    </tr>\n",
       "  </thead>\n",
       "  <tbody>\n",
       "    <tr>\n",
       "      <th>0</th>\n",
       "      <td>male</td>\n",
       "      <td>full</td>\n",
       "      <td>25</td>\n",
       "      <td>doctorate</td>\n",
       "      <td>35</td>\n",
       "      <td>36350</td>\n",
       "    </tr>\n",
       "    <tr>\n",
       "      <th>1</th>\n",
       "      <td>male</td>\n",
       "      <td>full</td>\n",
       "      <td>13</td>\n",
       "      <td>doctorate</td>\n",
       "      <td>22</td>\n",
       "      <td>35350</td>\n",
       "    </tr>\n",
       "    <tr>\n",
       "      <th>2</th>\n",
       "      <td>male</td>\n",
       "      <td>full</td>\n",
       "      <td>10</td>\n",
       "      <td>doctorate</td>\n",
       "      <td>23</td>\n",
       "      <td>28200</td>\n",
       "    </tr>\n",
       "    <tr>\n",
       "      <th>3</th>\n",
       "      <td>female</td>\n",
       "      <td>full</td>\n",
       "      <td>7</td>\n",
       "      <td>doctorate</td>\n",
       "      <td>27</td>\n",
       "      <td>26775</td>\n",
       "    </tr>\n",
       "    <tr>\n",
       "      <th>4</th>\n",
       "      <td>male</td>\n",
       "      <td>full</td>\n",
       "      <td>19</td>\n",
       "      <td>masters</td>\n",
       "      <td>30</td>\n",
       "      <td>33696</td>\n",
       "    </tr>\n",
       "  </tbody>\n",
       "</table>\n",
       "</div>"
      ],
      "text/plain": [
       "       sx    rk  yr         dg  yd     sl\n",
       "0    male  full  25  doctorate  35  36350\n",
       "1    male  full  13  doctorate  22  35350\n",
       "2    male  full  10  doctorate  23  28200\n",
       "3  female  full   7  doctorate  27  26775\n",
       "4    male  full  19    masters  30  33696"
      ]
     },
     "execution_count": 150,
     "metadata": {},
     "output_type": "execute_result"
    }
   ],
   "source": [
    "wd = '../../data/'\n",
    "salary = pd.read_csv(wd + 'salary.csv')\n",
    "salary.head()"
   ]
  }
 ],
 "metadata": {
  "kernelspec": {
   "display_name": "Python 2",
   "language": "python",
   "name": "python2"
  },
  "language_info": {
   "codemirror_mode": {
    "name": "ipython",
    "version": 2
   },
   "file_extension": ".py",
   "mimetype": "text/x-python",
   "name": "python",
   "nbconvert_exporter": "python",
   "pygments_lexer": "ipython2",
   "version": "2.7.10"
  },
  "toc": {
   "toc_cell": false,
   "toc_number_sections": true,
   "toc_threshold": 6,
   "toc_window_display": false
  }
 },
 "nbformat": 4,
 "nbformat_minor": 0
}
